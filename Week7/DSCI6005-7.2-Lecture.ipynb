{
 "cells": [
  {
   "cell_type": "markdown",
   "metadata": {},
   "source": [
    "#Combining Feedforward and RNN's\n",
    "\n",
    "##What you'll learn\n",
    "1.  Architectures that combine FF net with RNN\n",
    "2.  Karpathy example for generating descriptive sentences from image CNN + RNN\n",
    "3.  Build a combo like this for predicting stock prices.  \n",
    "\n",
    "##Readings\n",
    "\n",
    "https://github.com/karpathy/neuraltalk - Karpathy image -> sentence\n",
    "\n",
    "http://arxiv.org/pdf/1411.4555v2.pdf - "
   ]
  },
  {
   "cell_type": "markdown",
   "metadata": {},
   "source": [
    "#Q.  \n",
    "Build FF + LSTM for stock price prediction.  As a first step try building FF to predict prices given a window of data.  Then fix that FF and use as feature generator (take off o/p layer and replace with LSTM. "
   ]
  }
 ],
 "metadata": {
  "kernelspec": {
   "display_name": "Python 2",
   "language": "python",
   "name": "python2"
  },
  "language_info": {
   "codemirror_mode": {
    "name": "ipython",
    "version": 2
   },
   "file_extension": ".py",
   "mimetype": "text/x-python",
   "name": "python",
   "nbconvert_exporter": "python",
   "pygments_lexer": "ipython2",
   "version": "2.7.10"
  }
 },
 "nbformat": 4,
 "nbformat_minor": 0
}
