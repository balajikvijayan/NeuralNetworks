{
 "cells": [
  {
   "cell_type": "markdown",
   "metadata": {},
   "source": [
    "#Lecture 5.4: ElasticNet Penalty and Efficient Solution\n",
    "\n",
    "##Readings\n",
    "https://en.wikipedia.org/wiki/Elastic_net_regularization\n",
    "https://en.wikipedia.org/wiki/Lp_space#The_p-norm_in_finite_dimensions\n",
    "http://statweb.stanford.edu/~jhf/ftp/glmnet.pdf\n",
    "http://ai.stanford.edu/~ang/papers/icml04-l1l2.pdf\n",
    "\n",
    "\n",
    "##Penalty Functions\n",
    "In the last lecture you saw how the introduction of a sum-of-squared penalty on the weights could serve to regularize linear regression.  The penalty forced the weight vector to be somewhat smaller in magnitude than the weights for unconstrained ordinary least squares regression.  Sum of squares isn't the only way to quantify the length of a vector.  Sum of squares corresponds to Euclidean distance and is referred to in the literature as $L_2$-norm.  But any Minkowski norm could be used as a penalty.  Thus the penalized regression problem you saw last time was \n",
    "\n",
    "$w^*, b^* = argmin_{w, b} \\frac1M \\sum_{i=1}^M (y_i - (b + x_i w^T))^2  + \\alpha (w_1^2 + w_2^2 + ... + w_N^2)$\n",
    "\n",
    "This looks a little different because the squares of the weights are written out instead of being expressed (equivalently) as $ww^T$.  The power to which each weight is raised before being squared could be any positive number p.  \n",
    "\n",
    "$w^*, b^* = argmin_{w, b} \\frac1M \\sum_{i=1}^M (y_i - (b + x_i w^T))^2  + \\alpha (|w_1|^p + |w_2|^p + ... + |w_N|^p)$\n",
    "\n",
    "As a practical matter, the most frequently used penalty norms are $L_2$ and $L_1$.  $L_1$ corresponds to $p=1$ and $L_2$ corresponds to $p=2$.  The $L_1$ norm of the weights is the sum of the absolute values of the weights.  The choice of using $L_1$ versus $L_2$ matters because it leads to some useful differences in the solutions to the penalized regression problem.  The principal differences are 1) $L_1$ gives sparse weight vectors and is less sensitive to irrelevant features (Ng paper).  2) $L_2$ deals better with correlated attributes.  You can understand some of these differences by referring to one of the figures from \"Elements of Statistical Learning\" - the excellent book on machine learning by Stanford professors Hastie, Tibshirani and Friedman.  This link will take you to the website for the book (which is free online).  \n",
    "http://statweb.stanford.edu/~tibs/ElemStatLearn/ - Figure 3.11  \n",
    "\n",
    "The point to be made from this figure is that the solutions with $L_1$ penalty get stuck on the points of the $L_1$-ball.  These points are aligned along the coordinate axes which means automatically that some of the weights are zero.  \n",
    "\n",
    "##ElasticNet Penalty\n",
    "ElasticNet (https://web.stanford.edu/~hastie/Papers/elasticnet.pdf) is a penalty developed by Zou and Hastie at Stanford specifically for penalized regression.  Here's that the ElasticNet penalty looks like.  \n",
    "\n",
    "$ElasticNet Penalty = P_{\\lambda}(w) = (1 - \\lambda)(w_1^2 + w_2^2 + ... + w_N^2) + \\lambda(|w_1| + |w_2| + ... + |w_N|)$\n",
    "\n",
    "This penalty is a blend of $L_1$ and $L_2$.  In this expression $\\lambda$ is a parameter that ranges from 0 to 1.  It controls whether the blend is more heavily $L_1$ or $L_2$.  If $\\lambda = 0$, then the penalty is all $L_2$.  If $\\lambda = 1$, then the penalty is all $L_1$.  Friedman's glmnet paper shows the coefficient curves for different values of the $\\lambda$ parameter.  That paper outlines a very fast solution approach that makes glmnet a very scalable algorithm for solving penalized regression problems.  The sklearn package \"ElasticNet\" provides a python version.  The code below demonstrates its use.  \n"
   ]
  },
  {
   "cell_type": "code",
   "execution_count": 1,
   "metadata": {
    "collapsed": false
   },
   "outputs": [
    {
     "name": "stdout",
     "output_type": "stream",
     "text": [
      "5.10682407389e-05\n",
      "[  1.92268648e-02   1.79310385e-02   1.67225465e-02   1.55955028e-02\n",
      "   1.45444181e-02   1.35641730e-02   1.26499932e-02   1.17974260e-02\n",
      "   1.10023189e-02   1.02607995e-02   9.56925593e-03   8.92432010e-03\n",
      "   8.32285080e-03   7.76191851e-03   7.23879118e-03   6.75092088e-03\n",
      "   6.29593141e-03   5.87160670e-03   5.47588006e-03   5.10682407e-03\n",
      "   4.76264122e-03   4.44165514e-03   4.14230245e-03   3.86312513e-03\n",
      "   3.60276343e-03   3.35994923e-03   3.13349990e-03   2.92231249e-03\n",
      "   2.72535841e-03   2.54167838e-03   2.37037776e-03   2.21062223e-03\n",
      "   2.06163369e-03   1.92268648e-03   1.79310385e-03   1.67225465e-03\n",
      "   1.55955028e-03   1.45444181e-03   1.35641730e-03   1.26499932e-03\n",
      "   1.17974260e-03   1.10023189e-03   1.02607995e-03   9.56925593e-04\n",
      "   8.92432010e-04   8.32285080e-04   7.76191851e-04   7.23879118e-04\n",
      "   6.75092088e-04   6.29593141e-04   5.87160670e-04   5.47588006e-04\n",
      "   5.10682407e-04   4.76264122e-04   4.44165514e-04   4.14230245e-04\n",
      "   3.86312513e-04   3.60276343e-04   3.35994923e-04   3.13349990e-04\n",
      "   2.92231249e-04   2.72535841e-04   2.54167838e-04   2.37037776e-04\n",
      "   2.21062223e-04   2.06163369e-04   1.92268648e-04   1.79310385e-04\n",
      "   1.67225465e-04   1.55955028e-04   1.45444181e-04   1.35641730e-04\n",
      "   1.26499932e-04   1.17974260e-04   1.10023189e-04   1.02607995e-04\n",
      "   9.56925593e-05   8.92432010e-05   8.32285080e-05   7.76191851e-05\n",
      "   7.23879118e-05   6.75092088e-05   6.29593141e-05   5.87160670e-05\n",
      "   5.47588006e-05   5.10682407e-05   4.76264122e-05   4.44165514e-05\n",
      "   4.14230245e-05   3.86312513e-05   3.60276343e-05   3.35994923e-05\n",
      "   3.13349990e-05   2.92231249e-05   2.72535841e-05   2.54167838e-05\n",
      "   2.37037776e-05   2.21062223e-05   2.06163369e-05   1.92268648e-05]\n",
      "[ 0.81641602  0.81533124  0.81393417  0.81211881  0.81015069  0.80808196\n",
      "  0.80591634  0.80365278  0.80129064  0.79875216  0.79609087  0.79310562\n",
      "  0.7898336   0.78641918  0.78287965  0.77924529  0.77551479  0.77170373\n",
      "  0.76777104  0.76369672  0.75956506  0.75538661  0.75118267  0.74689215\n",
      "  0.74262082  0.73839831  0.73417926  0.73000624  0.72592631  0.72195154\n",
      "  0.71807547  0.71431624  0.71069395  0.70721602  0.7038857   0.70070855\n",
      "  0.69769609  0.69484153  0.69214464  0.68960481  0.68721885  0.68498829\n",
      "  0.6828694   0.68089136  0.67905367  0.67734087  0.67574921  0.67427994\n",
      "  0.67292447  0.67168207  0.67054118  0.66949096  0.66853564  0.66766327\n",
      "  0.66685726  0.66612764  0.66546878  0.66485143  0.66429433  0.66379376\n",
      "  0.66334516  0.66294151  0.66257708  0.66225195  0.66196436  0.66170982\n",
      "  0.66148894  0.66129458  0.6611261   0.66098505  0.66086448  0.66075969\n",
      "  0.66066903  0.66058807  0.66052008  0.66046364  0.66041754  0.66038001\n",
      "  0.66033518  0.66029728  0.66026573  0.66024189  0.66022298  0.66020818\n",
      "  0.66019672  0.66019381  0.66020794  0.66022194  0.66023763  0.66025432\n",
      "  0.66027204  0.66029034  0.66030915  0.6603281   0.66034728  0.66036626\n",
      "  0.66038506  0.66040369  0.6604219   0.66043973]\n"
     ]
    },
    {
     "data": {
      "image/png": "[encoded data removed]",
      "text/plain": [
       "<matplotlib.figure.Figure at 0x7f46431a5d10>"
      ]
     },
     "metadata": {},
     "output_type": "display_data"
    }
   ],
   "source": [
    "__author__ = 'mike bowles'\n",
    "\n",
    "from sklearn.linear_model import ElasticNet, ElasticNetCV\n",
    "import urllib2\n",
    "import numpy as np\n",
    "import matplotlib.pyplot as plt\n",
    "%matplotlib inline\n",
    "\n",
    "target_url = \"http://archive.ics.uci.edu/ml/machine-learning-databases/wine-quality/winequality-red.csv\"\n",
    "data = urllib2.urlopen(target_url)\n",
    "x = []\n",
    "y = []\n",
    "names = []\n",
    "firstLine = True\n",
    "for row in data:\n",
    "    if firstLine:\n",
    "        names = row.strip().split(\";\")\n",
    "        firstLine = False\n",
    "    else:\n",
    "        rowSplit = row.strip().split(\";\")\n",
    "        y.append(float(rowSplit.pop()))\n",
    "        floatRow = [float(num) for num in rowSplit]\n",
    "        x.append(floatRow)\n",
    "\n",
    "eNetModel = ElasticNetCV(l1_ratio=0.5, normalize=True, cv=5, verbose=0, random_state=None, selection='cyclic')\n",
    "\n",
    "eNetModel.fit(x,y)\n",
    "\n",
    "print eNetModel.alpha_\n",
    "print eNetModel.alphas_\n",
    "xvalError = np.sqrt(np.mean(eNetModel.mse_path_, axis=1))\n",
    "print xvalError\n",
    "\n",
    "plt.plot(xvalError)\n",
    "plt.show()"
   ]
  },
  {
   "cell_type": "markdown",
   "metadata": {},
   "source": [
    "##In class coding exercises\n",
    "1  Rerun the code above for various values of l1_ratio (named $\\lambda$ in the discussion above). \n",
    "\n",
    "2  Rerun the code with normalize=False.  How much difference does that make?\n",
    "\n",
    "3  Extract the coefficients corresponding to the best choice of alpha.\n",
    "\n",
    "##Homework\n",
    "See what kind of performance you can get on the breast cancer prognosis data using ElasticNet.  "
   ]
  },
  {
   "cell_type": "code",
   "execution_count": null,
   "metadata": {
    "collapsed": true
   },
   "outputs": [],
   "source": []
  }
 ],
 "metadata": {
  "kernelspec": {
   "display_name": "Python 2",
   "language": "python",
   "name": "python2"
  },
  "language_info": {
   "codemirror_mode": {
    "name": "ipython",
    "version": 2
   },
   "file_extension": ".py",
   "mimetype": "text/x-python",
   "name": "python",
   "nbconvert_exporter": "python",
   "pygments_lexer": "ipython2",
   "version": "2.7.10"
  }
 },
 "nbformat": 4,
 "nbformat_minor": 0
}
