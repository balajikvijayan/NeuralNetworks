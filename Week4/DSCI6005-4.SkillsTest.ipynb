{
 "cells": [
  {
   "cell_type": "markdown",
   "metadata": {},
   "source": [
    "#Week 4 Skills Test\n",
    "\n",
    "Use a deep network to build a classifier for the rocks-versus-mines problem included in the UC Irvine Data Repository.  Here's a link to the page describing the data set and giving links to the data.  https://archive.ics.uci.edu/ml/datasets/Connectionist+Bench+%28Sonar,+Mines+vs.+Rocks%29 .  Below you'll find code that reads in the data forms it into training and test sets.  You can use that as part of your code or write your own program if you prefer.  Build a 4 (or more)layer network that has input layer, output layer and at least two hidden layers.  Feel free to adapt any of the code that you've seen in class.  Turn in working code that can be run without any modifications to train the model and report misclassification error on the test set (a holdout of 60 rows of the data as you can see in the attached code).  "
   ]
  },
  {
   "cell_type": "code",
   "execution_count": null,
   "metadata": {
    "collapsed": true
   },
   "outputs": [],
   "source": [
    "def readRvM():\n",
    "    import urllib2\n",
    "    from random import sample\n",
    "    targetUrl='https://archive.ics.uci.edu/ml/machine-learning-databases/undocumented/connectionist-bench/sonar/sonar.all-data'\n",
    "    rvmData = urllib2.urlopen(targetUrl)\n",
    "    x = []\n",
    "    y = []\n",
    "    for line in rvmData:\n",
    "        line = line.strip()\n",
    "        lineList = line.split(',')\n",
    "        str = lineList.pop()\n",
    "        x.append(lineList)\n",
    "        if str == 'M':\n",
    "            y.append([0,1])\n",
    "        else:\n",
    "            y.append([1,0])\n",
    "    randIdx = sample(range(len(x)), len(x))\n",
    "    newX = [x[i] for i in randIdx]\n",
    "    newY = [y[i] for i in randIdx]\n",
    "    xTest = np.array(newX[0:60], dtype=theano.config.floatX)\n",
    "    xTrain = np.array(newX[60:208], dtype=theano.config.floatX)\n",
    "    yTest = np.array(newY[0:60], dtype=theano.config.floatX)\n",
    "    yTrain = np.array(newY[60:208], dtype=theano.config.floatX)\n",
    "    return xTest, xTrain, yTest, yTrain"
   ]
  }
 ],
 "metadata": {
  "kernelspec": {
   "display_name": "Python 2",
   "language": "python",
   "name": "python2"
  },
  "language_info": {
   "codemirror_mode": {
    "name": "ipython",
    "version": 2
   },
   "file_extension": ".py",
   "mimetype": "text/x-python",
   "name": "python",
   "nbconvert_exporter": "python",
   "pygments_lexer": "ipython2",
   "version": "2.7.10"
  }
 },
 "nbformat": 4,
 "nbformat_minor": 0
}
