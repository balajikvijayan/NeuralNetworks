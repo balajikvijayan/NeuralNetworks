{
 "cells": [
  {
   "cell_type": "markdown",
   "metadata": {},
   "source": [
    "#Global Optimization\n",
    "\n",
    "##What you'll learn today\n",
    "1.  Some properties of convex functions and their importance in optimization problems\n",
    "2.  Examples of non-convex functions that have multiple local minima\n",
    "3.  Why problems with multiple local minima are problematic for gradient descent and Newton's method.\n",
    "4.  Algorithms for dealing with multiple local minima\n",
    "\n",
    "##Roadmap\n",
    "1. Convex functions and their utility for solving optimization problems\n",
    "2.  Algorithmic approaches for solving problems with multiple local minima (or maxima). \n",
    "3.  Random restarts\n",
    "4.  Differential Evolution\n",
    "5.  Basin Hopping\n",
    "6.  Particle Swarm\n",
    "\n",
    "##Pre-Reading\n",
    "\n",
    "https://en.wikipedia.org/wiki/Convex_function\n",
    "\n",
    "https://en.wikipedia.org/wiki/Convex_set\n",
    "\n",
    "https://en.wikipedia.org/wiki/Differential_evolution\n",
    "\n",
    "https://en.wikipedia.org/wiki/Particle_swarm_optimization\n",
    "\n",
    "http://pythonhosted.org/pyswarm/ - You'll need to install pyswarm.  Here's a link to documentation for it.  Install and run the examples in the documentation before you come to class.\n",
    "\n",
    "http://www.cs.tufts.edu/comp/150GA/homeworks/hw3/_reading6%201995%20particle%20swarming.pdf - Original particle swarm paper.  \n",
    "\n",
    "##Introduction - Problems where gradient-based methods have trouble\n",
    "The methods discussed so far, work for problems that are called \"convex\".  Convex problems have the property that they have minimums (or maximums) and that the minimums are unique.  Wikipedia gives good coverage (and graphics) regarding convex functions.  https://en.wikipedia.org/wiki/Convex_function .  The wikipedia article on convex functions gives an alternative definition of a convex function that relies on the area above the function being a convex set.  The wikipedia page on convex sets gives a good graphic portrayal and the accompanying mathematical descriptions.  Here's that link: https://en.wikipedia.org/wiki/Convex_set.  \n",
    "\n",
    "The code below shows the equation and draws the plot for the assymetric double claw (ADC).  Have a look at the plot.  ADC is a maximization problem.  "
   ]
  },
  {
   "cell_type": "code",
   "execution_count": 1,
   "metadata": {
    "collapsed": false
   },
   "outputs": [
    {
     "data": {
      "image/png": "[encoded data removed]",
      "text/plain": [
       "<matplotlib.figure.Figure at 0x7f049b147950>"
      ]
     },
     "metadata": {},
     "output_type": "display_data"
    }
   ],
   "source": [
    "__author__ = 'mike.bowles'\n",
    "import math\n",
    "import matplotlib.pyplot as plot\n",
    "%matplotlib inline\n",
    "\n",
    "def gausDens(x,mu, sigma):\n",
    "    sigSq = sigma * sigma\n",
    "    numerator = - (x - mu) * (x - mu)\n",
    "    arg = numerator / (2 * sigSq)\n",
    "    return math.exp(arg) / math.sqrt(2.0 * math.pi * sigSq)\n",
    "\n",
    "def claw(xx):\n",
    "    c1 = 0.46 * (gausDens(x, -1, 2.0 / 3.0) + gausDens(x, 1, 2.0 / 3.0))\n",
    "    c2 = (1.0 / 300.0) * (gausDens(x, -0.5, 0.01) + gausDens(x, -1, 0.01) + gausDens(x, -1.5, 0.01))\n",
    "    c3 = (7.0 / 300.0) * (gausDens(x, 0.5, 0.07) + gausDens(x, 1, 0.07) + gausDens(x, 1.5, 0.07))\n",
    "    return c1 + c2 + c3\n",
    "\n",
    "step = 1.0 / 100.0\n",
    "num = 300\n",
    "\n",
    "xArray = [x * step for x in range(-num, num, 1)]\n",
    "\n",
    "yArray = [claw(x) for x in xArray]\n",
    "\n",
    "plot.plot(xArray, yArray)\n",
    "plot.show()"
   ]
  },
  {
   "cell_type": "markdown",
   "metadata": {},
   "source": [
    "Schaffer's F6 is another well-known problem that causes trouble for ordinary optimization techniques.  Here are some graphs of that function: https://zhanggw.wordpress.com/2010/09/25/optimization-schaffer-f6-function-using-basic-genetic-algorithm-2/  \n",
    "\n",
    "##Q's\n",
    "1.  Comment on the differences between the maxima in ADC versus those in Shaffer's F6.\n",
    "2.  How do convexity definitions change between a maximization problem and a minimization problem?\n",
    "3.  Describe a numerical test you could run to show that ADC is not convex. \n",
    "4.  Suppose you're using gradient descent on this problem.  Trace out a credible series of steps and corresponding points on the graph.  What problems would arise?  \n",
    "\n",
    "##Methods for dealing with non-unique local maxima (or minima).  \n",
    "\n",
    "##Random Initialization\n",
    "Gradient based methods start from an initial guess and hill climb (or roll down-hill) to a maximum (or minimum).  Like when you're hiking.  You climb the hill in front of you and when you get to the top, you see that there are other hills - some lower and some higher.  Random initialization is a way to start the hill climbing at a variety of different places in hopes that one of the starting points converges to the tallest hill.  Here's random initialization using BFGS to find the maximum of ADC.  \n",
    "\n"
   ]
  },
  {
   "cell_type": "code",
   "execution_count": 7,
   "metadata": {
    "collapsed": false
   },
   "outputs": [
    {
     "data": {
      "image/png": "[encoded data removed]",
      "text/plain": [
       "<matplotlib.figure.Figure at 0x7fc8c0f03cd0>"
      ]
     },
     "metadata": {},
     "output_type": "display_data"
    }
   ],
   "source": [
    "__author__ = 'mike.bowles'\n",
    "import math\n",
    "import random\n",
    "import numpy as np\n",
    "from scipy import optimize\n",
    "#import matplotlib.pyplot as plot\n",
    "#%matplotlib inline\n",
    "\n",
    "def gausDens(x,mu, sigma):\n",
    "    sigSq = sigma * sigma\n",
    "    numerator = - (x - mu) * (x - mu)\n",
    "    arg = numerator / (2 * sigSq)\n",
    "    return math.exp(arg) / math.sqrt(2.0 * math.pi * sigSq)\n",
    "\n",
    "def deGaus(x, mu, sigma):\n",
    "    sigSq = sigma * sigma\n",
    "    numerator = - (x - mu)\n",
    "    return gausDens(x, mu, sigma) * numerator / sigSq\n",
    "\n",
    "def claw(xx):\n",
    "    x = xx[0]\n",
    "    c1 = 0.46 * (gausDens(x, -1.0, 2.0 / 3.0) + gausDens(x, 1.0, 2.0 / 3.0))\n",
    "    c2 = (1.0 / 300.0) * (gausDens(x, -0.5, 0.01) + gausDens(x, -1.0, 0.01) + gausDens(x, -1.5, 0.01))\n",
    "    c3 = (7.0 / 300.0) * (gausDens(x, 0.5, 0.07) + gausDens(x, 1.0, 0.07) + gausDens(x, 1.5, 0.07))\n",
    "    return np.asarray(-(c1 + c2 + c3))\n",
    "\n",
    "def dClaw(xx):\n",
    "    x = xx[0]\n",
    "    c1 = 0.46 * (deGaus(x, -1.0, 2.0 / 3.0) + deGaus(x, 1.0, 2.0 / 3.0))\n",
    "    c2 = (1.0 / 300.0) * (deGaus(x, -0.5, 0.01) + deGaus(x, -1.0, 0.01) + deGaus(x, -1.5, 0.01))\n",
    "    c3 = (7.0 / 300.0) * (deGaus(x, 0.5, 0.07) + deGaus(x, 1.0, 0.07) + deGaus(x, 1.5, 0.07))\n",
    "    return np.asarray(-(c1 + c2 + c3))\n",
    "\n",
    "#Set up searches from random points\n",
    "\n",
    "nPts = 20\n",
    "bestX = []\n",
    "bestJ = []\n",
    "answers = []\n",
    "starts = []\n",
    "\n",
    "for i in range(nPts):\n",
    "    #generate random starting points in [-3,3]\n",
    "    xStart = 6.0 * (random.random() - 0.5)\n",
    "    star = optimize.fmin_l_bfgs_b(claw, xStart, fprime=dClaw)\n",
    "    (x, j, dum)  = star\n",
    "    result = (xStart, x[0], float(j))\n",
    "    bestX.append(x[0])\n",
    "    bestJ.append(float(j))\n",
    "    answers.append(result)\n",
    "    starts.append(xStart)\n",
    "\n",
    "#print bestX\n",
    "#print bestJ\n",
    "#print xStart\n",
    "#print answers\n",
    "plot.scatter(starts, bestX)\n",
    "plot.xlabel('Starting x-Value')\n",
    "plot.ylabel('x-Value from Optimizer')\n",
    "plot.show()"
   ]
  },
  {
   "cell_type": "markdown",
   "metadata": {
    "collapsed": true
   },
   "source": [
    "##Q's\n",
    "1.  ADC is a maximization problem yet the code snip uses a minimizing version of bgfs.  How does that work?\n",
    "2.  How many of the local mimima does this approach identify?  \n",
    "3.  Discuss alternative approaches to random selection for finding starting points.  Would uniformly spread points make more sense?  How might you preclude choosing starting points that result in maxima that have already been found?  \n",
    "\n",
    "Page 4 of the following paper has a number of challenging functions.  Here\n",
    "http://www.computer-science.birmingham.ac.uk/~xin/papers/published_tec_jul99.pdf\n",
    "\n",
    "Try your hand at their Function 8.  That function has numerous minima.  The two dimensional version of the function is plotted in Figure 4 in the referenced paper.  Here's the definition of the function\n",
    "\n",
    "$F8 = \\sum_{i=1}^{N} - x_i sin(\\sqrt{|{x_i}|})$\n",
    "\n",
    "The variable \"N\" can be chosen determine the dimensionality of the problem and to give the problem more or less minima.  According to the paper, the number of minima grows exponentially with N.  The $i^{th}$ element of the gradient vector is given by\n",
    "\n",
    "$\\frac{dF8}{dx_i} = -sin(\\sqrt{|{x_i}|}) -\\frac{x_i cos(\\sqrt{|{x_i}|})sgn(x_i)}{2\\sqrt{|{x_i}|}}$\n",
    "\n",
    "In this equation the function sgn() is called the signum function (or sign function).  It stands as the derivative of the absolute value and is defined as\n",
    "\n",
    "$sgn(x) = -1\\quad if\\quad x<0,\\quad +1\\quad if\\quad x>0,\\quad and\\quad 0\\quad if\\quad x=0$\n",
    "\n",
    "Strictly speaking the derivative of the absolute value function is not defined at 0.  Since there's only one point where it's not defined, it generally doesn't matter too much what value is assigned for the derivative at zero.  For most applications the value at zero could be anything between -1 and 1.  Zero makes the derivative symmetric.  \n",
    "\n",
    "With a little rearranging the expression for the derivative becomes\n",
    "$\\frac{dF8}{dx_i} = -sin(\\sqrt{|{x_i}|}) -\\frac{\\sqrt{|{x_i}|} cos(\\sqrt{|{x_i}|})}{2}$\n",
    "\n",
    "##In-class exercise:\n",
    "The code below implements the functions f8 and df8 (the function and its gradient).  The code has a couple of parameters.  One is \"nPts\" which determines the number of random points that will be generated to start the optimizations.  The other is \"N\" which determines the order of the problem.  N is set to 4 in the code below which means that the problem is 4th order.  Fill in the code that goes in the commented section at the bottom of the code window. "
   ]
  },
  {
   "cell_type": "code",
   "execution_count": 10,
   "metadata": {
    "collapsed": false,
    "scrolled": false
   },
   "outputs": [
    {
     "data": {
      "image/png": "[encoded data removed]",
      "text/plain": [
       "<matplotlib.figure.Figure at 0x7fc8c0b92250>"
      ]
     },
     "metadata": {},
     "output_type": "display_data"
    }
   ],
   "source": [
    "__author__ = 'mike.bowles'\n",
    "import math\n",
    "import random\n",
    "import numpy as np\n",
    "from scipy import optimize\n",
    "import matplotlib.pyplot as plot\n",
    "\n",
    "def sgn(xx):\n",
    "    if xx > 0.0: return xx\n",
    "    if xx < 0.0: return -xx\n",
    "    return 0.0\n",
    "\n",
    "def sinSA(xx):\n",
    "    return math.sin(math.sqrt(math.fabs(xx)))\n",
    "\n",
    "def cosSA(xx):\n",
    "    return math.cos(math.sqrt(math.fabs(xx)))\n",
    "\n",
    "def f8(xx):\n",
    "    return sum([-x*sinSA(x) for x in xx])\n",
    "\n",
    "def df8(xx):\n",
    "    return np.asarray([-sinSA(x) - math.sqrt(math.fabs(x)) * cosSA(x) * 0.5 for x in xx])\n",
    "\n",
    "#Check for reasonableness with one-dimensional version\n",
    "xRange = range(-500, 500)\n",
    "f8Vals = [f8(np.asarray([x])) for x in xRange]\n",
    "fpVals = [df8(np.asarray([x])) for x in xRange]\n",
    "fp = [x[0] for x in fpVals]\n",
    "#\n",
    "plot.plot(xRange, f8Vals)\n",
    "plot.plot(xRange, fp)\n",
    "plot.xlabel('x-Value')\n",
    "plot.ylabel('Function 8 and Derivative')\n",
    "plot.show()\n",
    "\n",
    "\n",
    "#Set up searches from random points\n",
    "nPts = 100\n",
    "N = 4\n",
    "bestX = []\n",
    "bestJ = []\n",
    "answers = []\n",
    "starts = []\n",
    "\n",
    "#for i in range(nPts):\n",
    "#    #add your code here to generate random starting \n",
    "#    #points in [-500,500] and then fill in the arguments to \n",
    "#    #optimize.fmin_l_bfgs_b()\n",
    "#    \n",
    "#    \n",
    "#    star = optimize.fmin_l_bfgs_b(  ,  , fprime=)\n",
    "#    (x, j, dum)  = star\n",
    "#    result = (xStart, x[0], float(j))\n",
    "#    bestX.append(x[0])\n",
    "#    bestJ.append(float(j))\n",
    "#    answers.append(result)\n",
    "#    starts.append(xStart)\n",
    "\n",
    "#print bestX\n",
    "#print bestJ\n",
    "#print xStart\n",
    "#print answers\n",
    "\n",
    "#print min(bestJ)\n"
   ]
  },
  {
   "cell_type": "markdown",
   "metadata": {
    "collapsed": true
   },
   "source": [
    "##Differential Evolution\n",
    "Differential evolution operates by establishing a \"population\" of candidate solutions and then randomly recombining population members to construct new candidates and replacing old candidates with new ones when the new candidates give better solutions than the old ones.  The wikipedia entry on differential evolution gives a good summary of how the algorithm works.  https://en.wikipedia.org/wiki/Differential_evolution\n",
    "\n",
    "The code below illustrates the application of the differential evolution package from scipy.optimize to the ASD (assymetric double claw).  \n"
   ]
  },
  {
   "cell_type": "code",
   "execution_count": 1,
   "metadata": {
    "collapsed": false
   },
   "outputs": [
    {
     "name": "stdout",
     "output_type": "stream",
     "text": [
      "[ 0.99950326] -0.411312326751\n"
     ]
    }
   ],
   "source": [
    "__author__ = 'mike.bowles'\n",
    "import math\n",
    "from scipy import optimize\n",
    "\n",
    "def gausDens(x,mu, sigma):\n",
    "    sigSq = sigma * sigma\n",
    "    numerator = - (x - mu) * (x - mu)\n",
    "    arg = numerator / (2 * sigSq)\n",
    "    return math.exp(arg) / math.sqrt(2.0 * math.pi * sigSq)\n",
    "\n",
    "def claw(xx):\n",
    "    x = xx[0]\n",
    "    c1 = 0.46 * (gausDens(x, -1.0, 2.0 / 3.0) + gausDens(x, 1.0, 2.0 / 3.0))\n",
    "    c2 = (1.0 / 300.0) * (gausDens(x, -0.5, 0.01) + gausDens(x, -1.0, 0.01) + gausDens(x, -1.5, 0.01))\n",
    "    c3 = (7.0 / 300.0) * (gausDens(x, 0.5, 0.07) + gausDens(x, 1.0, 0.07) + gausDens(x, 1.5, 0.07))\n",
    "    return (-(c1 + c2 + c3))\n",
    "\n",
    "# def dClaw(xx):  DE does not require gradient calculation\n",
    "\n",
    "result = optimize.differential_evolution(claw,\n",
    "            bounds=[(-3, 3)],\n",
    "            strategy='best1bin',\n",
    "            maxiter=None,\n",
    "            popsize=15,\n",
    "            tol=0.01,\n",
    "            mutation= (0.5, 1.0),\n",
    "            recombination=0.7)\n",
    "\n",
    "print result.x, result.fun"
   ]
  },
  {
   "cell_type": "markdown",
   "metadata": {},
   "source": [
    "The parameters that available to tune performance are set to their default values in the code above.  Try changing the parameters to see how it alters the performance.  To get some ideas about how to alter the parameters you might look at the following link:  http://cci.lbl.gov/cctbx_sources/scitbx/differential_evolution.py The material on that link comes from the authors of the algorithm and has some helpful tips.  \n",
    "\n",
    "##In-class coding exercise. \n",
    "Use the scipy.optimize differential evolution package to find the global minimum for the 4 parameter version of the f8 function.  When you have that running successfully change N to 30 and see if your results match the results given in http://www.computer-science.birmingham.ac.uk/~xin/papers/published_tec_jul99.pdf for the best function value.  \n",
    "\n",
    "##Basin Hopping\n",
    "Earlier in this session you saw that different starting points for the assymetric double claw resulted in BFGS being drawn towards different maxima.  To see a graphical depiction of this google \"basin hopping images\".  What you'll see there is depictions of functions with multiple local minima and a step-wise constant function inscribed along the various local minima.  The idea with basin hopping is to find a local minmum and then to perturb the solution enough to cause it to in the domain of attraction for an adjacent minimum.  If the adjacent minimum is lower then it's accepted as the new best value.  If the adjacent minimum is too much higher then it's rejected.  If the adjacent minimum isn't too much higher then it can still serve as stepping stone for finding new adjacent minima.  The search for the global minimum hops from one basin to the next.  Here's how this looks in code.  "
   ]
  },
  {
   "cell_type": "code",
   "execution_count": 4,
   "metadata": {
    "collapsed": false
   },
   "outputs": [
    {
     "name": "stdout",
     "output_type": "stream",
     "text": [
      "[ 0.99950326] -0.411312326751\n"
     ]
    }
   ],
   "source": [
    "__author__ = 'mike.bowles'\n",
    "import math\n",
    "import numpy as np\n",
    "from scipy import optimize\n",
    "\n",
    "\n",
    "def gausDens(x,mu, sigma):\n",
    "    sigSq = sigma * sigma\n",
    "    numerator = - (x - mu) * (x - mu)\n",
    "    arg = numerator / (2 * sigSq)\n",
    "    return math.exp(arg) / math.sqrt(2.0 * math.pi * sigSq)\n",
    "\n",
    "def deGaus(x, mu, sigma):\n",
    "    sigSq = sigma * sigma\n",
    "    numerator = - (x - mu)\n",
    "    return gausDens(x, mu, sigma) * numerator / sigSq\n",
    "\n",
    "def clawWD(xx):\n",
    "    x = xx[0]\n",
    "    #calculate function value\n",
    "    c1 = 0.46 * (gausDens(x, -1.0, 2.0 / 3.0) + gausDens(x, 1.0, 2.0 / 3.0))\n",
    "    c2 = (1.0 / 300.0) * (gausDens(x, -0.5, 0.01) + gausDens(x, -1.0, 0.01) + gausDens(x, -1.5, 0.01))\n",
    "    c3 = (7.0 / 300.0) * (gausDens(x, 0.5, 0.07) + gausDens(x, 1.0, 0.07) + gausDens(x, 1.5, 0.07))\n",
    "    cl = -(c1 + c2 + c3)\n",
    "    #calculate gradient (derivative) of function\n",
    "    dc1 = 0.46 * (deGaus(x, -1.0, 2.0 / 3.0) + deGaus(x, 1.0, 2.0 / 3.0))\n",
    "    dc2 = (1.0 / 300.0) * (deGaus(x, -0.5, 0.01) + deGaus(x, -1.0, 0.01) + deGaus(x, -1.5, 0.01))\n",
    "    dc3 = (7.0 / 300.0) * (deGaus(x, 0.5, 0.07) + deGaus(x, 1.0, 0.07) + deGaus(x, 1.5, 0.07))\n",
    "    dcl = np.asarray(-(dc1 + dc2 + dc3))\n",
    "    return cl, dcl\n",
    "\n",
    "def print_fun(x, f, accepted):\n",
    "    print x, f, int(accepted)\n",
    "\n",
    "minimizer_kwargs = {\"method\":\"L-BFGS-B\", \"jac\":True}\n",
    "x0 = [0.0]\n",
    "\n",
    "result = optimize.basinhopping(clawWD, x0,\n",
    "        minimizer_kwargs=minimizer_kwargs,\n",
    "        niter=200, callback=None,\n",
    "        stepsize=1.0)\n",
    "#to get a detailed look at the basin hopping search progress\n",
    "#change callback=None to callback=print_fun\n",
    "\n",
    "print result.x, result.fun"
   ]
  },
  {
   "cell_type": "markdown",
   "metadata": {},
   "source": [
    "Try changing niter and stepsize to see what effect it has on the solution.  You know from looking at the graph of the ADC function that the local minima are spaced 0.5 apart.  See how that works as a stepsize and how things change when you choose values larger and smaller.  It's also possible to supply your own stepsize function for managing the stepsizes more carefully.  \n",
    "\n",
    "##Particle Swarm\n",
    "\n",
    "Particle swarm optimization was developed by scientists who were building simple models to simulate behavior of groups of animals - for example flocking and swarming of birds.  The researchers found that their models tended to naturally optimize some criterion (like where is the most food) and abstracted the search technique to other problems.  Refer to the Kennedy paper to see the nature of these models.  \n",
    "\n",
    "The basic idea is that a \"population\" is initialized by picking points at random from a defined search space.  The positions of the points are iteratively modified using a few simple hueristics.  The velocities of each point is matched to it's nearest neighbor.  The velocity of each agent is modified to drive that agent toward the best location it has seen and the velocity of each agent is modified to drive each agent towards the best location any of the population have seen. This yields a combination of searching randomly around each agent's best point and gradually the swarm converging towards the best values found by the population.  The code below illustrates the use of particle swarm optimization on the asymmetric double claw.  \n"
   ]
  },
  {
   "cell_type": "code",
   "execution_count": null,
   "metadata": {
    "collapsed": true
   },
   "outputs": [],
   "source": [
    "__author__ = 'mike.bowles'\n",
    "import math\n",
    "from pyswarm import pso\n",
    "\n",
    "\n",
    "\n",
    "def gausDens(x,mu, sigma):\n",
    "    sigSq = sigma * sigma\n",
    "    numerator = - (x - mu) * (x - mu)\n",
    "    arg = numerator / (2 * sigSq)\n",
    "    return math.exp(arg) / math.sqrt(2.0 * math.pi * sigSq)\n",
    "\n",
    "def claw(xx):\n",
    "    c1 = 0.46 * (gausDens(xx, -1.0, 2.0 / 3.0) + gausDens(xx, 1.0, 2.0 / 3.0))\n",
    "    c2 = (1.0 / 300.0) * (gausDens(xx, -0.5, 0.01) + gausDens(xx, -1.0, 0.01) + gausDens(xx, -1.5, 0.01))\n",
    "    c3 = (7.0 / 300.0) * (gausDens(xx, 0.5, 0.07) + gausDens(xx, 1.0, 0.07) + gausDens(xx, 1.5, 0.07))\n",
    "    return -(c1 + c2 + c3)\n",
    "\n",
    "lb = [-3.0]\n",
    "ub = [3.0]\n",
    "\n",
    "xopt, adcOpt = pso(claw, lb, ub)\n",
    "\n",
    "print xopt, adcOpt, claw(-1.0), claw(1.0)"
   ]
  },
  {
   "cell_type": "markdown",
   "metadata": {},
   "source": [
    "##Homework Problem:\n",
    "1  Use basin hopping to find the global minimum in the F8 function.  Try it first with N=4 and compare with your in-class results with differential evolution.  Then try N=30 and compare your answer to the answer from the paper.  \n",
    "\n",
    "2  Use particle swarm optimization for the f8 function with N=30.  Compare results with basin hopping.  What factors factors would influence your choice between these two algorithms?"
   ]
  },
  {
   "cell_type": "code",
   "execution_count": null,
   "metadata": {
    "collapsed": true
   },
   "outputs": [],
   "source": []
  }
 ],
 "metadata": {
  "kernelspec": {
   "display_name": "Python 2",
   "language": "python",
   "name": "python2"
  },
  "language_info": {
   "codemirror_mode": {
    "name": "ipython",
    "version": 2
   },
   "file_extension": ".py",
   "mimetype": "text/x-python",
   "name": "python",
   "nbconvert_exporter": "python",
   "pygments_lexer": "ipython2",
   "version": "2.7.10"
  }
 },
 "nbformat": 4,
 "nbformat_minor": 0
}
